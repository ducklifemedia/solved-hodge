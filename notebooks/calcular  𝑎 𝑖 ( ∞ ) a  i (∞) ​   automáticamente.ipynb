{
 "cells": [
  {
   "cell_type": "code",
   "execution_count": 3,
   "id": "884bf7b2",
   "metadata": {},
   "outputs": [
    {
     "ename": "ModuleNotFoundError",
     "evalue": "No module named 'ace_tools'",
     "output_type": "error",
     "traceback": [
      "\u001b[31m---------------------------------------------------------------------------\u001b[39m",
      "\u001b[31mModuleNotFoundError\u001b[39m                       Traceback (most recent call last)",
      "\u001b[36mCell\u001b[39m\u001b[36m \u001b[39m\u001b[32mIn[3]\u001b[39m\u001b[32m, line 26\u001b[39m\n\u001b[32m     20\u001b[39m \u001b[38;5;66;03m# Mostramos los coeficientes finales de Z_infty\u001b[39;00m\n\u001b[32m     21\u001b[39m df = pd.DataFrame({\n\u001b[32m     22\u001b[39m     \u001b[33m'\u001b[39m\u001b[33mi\u001b[39m\u001b[33m'\u001b[39m: [\u001b[32m1\u001b[39m, \u001b[32m2\u001b[39m, \u001b[32m3\u001b[39m],\n\u001b[32m     23\u001b[39m     \u001b[33m'\u001b[39m\u001b[33ma_i^∞ (estimated)\u001b[39m\u001b[33m'\u001b[39m: Z_infty_coeffs\n\u001b[32m     24\u001b[39m })\n\u001b[32m---> \u001b[39m\u001b[32m26\u001b[39m \u001b[38;5;28;01mimport\u001b[39;00m\u001b[38;5;250m \u001b[39m\u001b[34;01mace_tools\u001b[39;00m\u001b[38;5;250m \u001b[39m\u001b[38;5;28;01mas\u001b[39;00m\u001b[38;5;250m \u001b[39m\u001b[34;01mtools\u001b[39;00m; tools.display_dataframe_to_user(name=\u001b[33m\"\u001b[39m\u001b[33mEstimated Coefficients of Z∞\u001b[39m\u001b[33m\"\u001b[39m, dataframe=df)\n",
      "\u001b[31mModuleNotFoundError\u001b[39m: No module named 'ace_tools'"
     ]
    }
   ],
   "source": [
    "import numpy as np\n",
    "import pandas as pd\n",
    "\n",
    "# Supongamos que tenemos una matriz con las combinaciones a_i^{(k)} para cada k\n",
    "# Cada fila representa ω_k, expresado como vector de coeficientes en la base {α₁, ..., αₙ}\n",
    "# Simulación: convergencia hacia [1.0, 2.0, 0.0]\n",
    "\n",
    "omega_coeffs = np.array([\n",
    "    [1.0, 2.0, 1.0],\n",
    "    [1.0, 2.0, 0.5],\n",
    "    [1.0, 2.0, 0.25],\n",
    "    [1.0, 2.0, 0.125],\n",
    "    [1.0, 2.0, 0.0625],\n",
    "    [1.0, 2.0, 0.03125],\n",
    "])\n",
    "\n",
    "# Calcular promedio como estimación de a_i^{(\\infty)}\n",
    "Z_infty_coeffs = omega_coeffs[-3:, :].mean(axis=0)\n",
    "\n",
    "# Mostramos los coeficientes finales de Z_infty\n",
    "df = pd.DataFrame({\n",
    "    'i': [1, 2, 3],\n",
    "    'a_i^∞ (estimated)': Z_infty_coeffs\n",
    "})\n",
    "\n",
    "import ace_tools as tools; tools.display_dataframe_to_user(name=\"Estimated Coefficients of Z∞\", dataframe=df)\n"
   ]
  }
 ],
 "metadata": {
  "kernelspec": {
   "display_name": "Python 3",
   "language": "python",
   "name": "python3"
  },
  "language_info": {
   "codemirror_mode": {
    "name": "ipython",
    "version": 3
   },
   "file_extension": ".py",
   "mimetype": "text/x-python",
   "name": "python",
   "nbconvert_exporter": "python",
   "pygments_lexer": "ipython3",
   "version": "3.11.9"
  }
 },
 "nbformat": 4,
 "nbformat_minor": 5
}
