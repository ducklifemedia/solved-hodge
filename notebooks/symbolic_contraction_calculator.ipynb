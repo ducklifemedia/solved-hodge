{
 "cells": [
  {
   "cell_type": "markdown",
   "id": "fa2cd05c",
   "metadata": {},
   "source": [
    "# 🔬 Symbolic Norm and Contraction Calculator\n",
    "\n",
    "This notebook computes the symbolic residual norm:\n",
    "\\\\[\n",
    "\\\\varphi_k := \\\\omega_k - P_k(\\\\omega_k)\n",
    "\\\\]\n",
    "and the contraction ratios:\n",
    "\\\\[\n",
    "\\\\frac{\\\\|\\\\varphi_{k+1}\\\\|}{\\\\|\\\\varphi_k\\\\|}\n",
    "\\\\]\n",
    "based on a given sequence of symbolic iterates \\\\( \\\\omega_k \\\\) and a basis of algebraic classes \\\\( \\\\{\\\\alpha_i\\\\} \\\\)."
   ]
  },
  {
   "cell_type": "code",
   "execution_count": 5,
   "id": "a2595624",
   "metadata": {},
   "outputs": [],
   "source": [
    "import numpy as np\n",
    "\n",
    "def compute_projection(omega_k, alpha_basis):\n",
    "    \"\"\"\n",
    "    Proyecta ω_k ortogonalmente sobre la base algebraizante alpha_basis.\n",
    "    Devuelve la proyección P_k(ω_k).\n",
    "    \"\"\"\n",
    "    alpha_matrix = np.stack(alpha_basis).T  # cada columna es un vector α_i\n",
    "    coeffs, _, _, _ = np.linalg.lstsq(alpha_matrix, omega_k, rcond=None)\n",
    "    projection = alpha_matrix @ coeffs\n",
    "    return projection\n",
    "\n",
    "def compute_phi_norms(omega_sequence, alpha_basis):\n",
    "    \"\"\"\n",
    "    Calcula ||φ_k|| := ||ω_k - P_k(ω_k)|| para cada k en la secuencia.\n",
    "    Retorna una lista de normas.\n",
    "    \"\"\"\n",
    "    norms = []\n",
    "    for omega_k in omega_sequence:\n",
    "        Pk_omega = compute_projection(omega_k, alpha_basis)\n",
    "        phi_k = omega_k - Pk_omega\n",
    "        norm = np.linalg.norm(phi_k)\n",
    "        norms.append(norm)\n",
    "    return norms\n",
    "\n",
    "def compute_contraction_ratios(norms):\n",
    "    \"\"\"\n",
    "    Calcula ||φ_{k+1}|| / ||φ_k|| para todos los k.\n",
    "    \"\"\"\n",
    "    return [norms[i+1]/norms[i] for i in range(len(norms)-1)]\n",
    "\n",
    "# Ejemplo de uso:\n",
    "# omega_sequence = [np.array([...]), np.array([...]), ...]\n",
    "# alpha_basis = [np.array([...]), np.array([...]), ...]\n",
    "# norms = compute_phi_norms(omega_sequence, alpha_basis)\n",
    "# ratios = [norms[i+1]/norms[i] for i in range(len(norms)-1)]"
   ]
  },
  {
   "cell_type": "code",
   "execution_count": 6,
   "id": "7684227e",
   "metadata": {},
   "outputs": [
    {
     "ename": "NameError",
     "evalue": "name 'omega_sequence' is not defined",
     "output_type": "error",
     "traceback": [
      "\u001b[31m---------------------------------------------------------------------------\u001b[39m",
      "\u001b[31mNameError\u001b[39m                                 Traceback (most recent call last)",
      "\u001b[36mCell\u001b[39m\u001b[36m \u001b[39m\u001b[32mIn[6]\u001b[39m\u001b[32m, line 1\u001b[39m\n\u001b[32m----> \u001b[39m\u001b[32m1\u001b[39m norms = compute_phi_norms(\u001b[43momega_sequence\u001b[49m, alpha_basis)\n\u001b[32m      2\u001b[39m ratios = compute_contraction_ratios(norms)\n",
      "\u001b[31mNameError\u001b[39m: name 'omega_sequence' is not defined"
     ]
    }
   ],
   "source": [
    "norms = compute_phi_norms(omega_sequence, alpha_basis)\n",
    "ratios = compute_contraction_ratios(norms)"
   ]
  },
  {
   "cell_type": "markdown",
   "id": "06f6e2db",
   "metadata": {},
   "source": [
    "\n",
    "# Instrucciones\n",
    "cells.append(nbf.v4.new_markdown_cell(\n",
    "\"\"\"\n",
    "## 🧪 Instructions\n",
    "\n",
    "1. Define your sequence of symbolic iterates:\n",
    "```python\n",
    "omega_sequence = [np.array([...]), np.array([...]), ...]\n",
    "\n",
    "2. Define your algebraic basis vectors:\n",
    "\n",
    "alpha_basis = [np.array([...]), np.array([...]), ...]\n",
    "\n",
    "\n",
    "Then run:\n",
    "\n",
    "norms = compute_phi_norms(omega_sequence, alpha_basis)\n",
    "ratios = compute_contraction_ratios(norms)\n",
    "print(\"Norms:\", norms)\n",
    "print(\"Contraction ratios:\", ratios)\n",
    "\n"
   ]
  }
 ],
 "metadata": {
  "kernelspec": {
   "display_name": "Python 3",
   "language": "python",
   "name": "python3"
  },
  "language_info": {
   "codemirror_mode": {
    "name": "ipython",
    "version": 3
   },
   "file_extension": ".py",
   "mimetype": "text/x-python",
   "name": "python",
   "nbconvert_exporter": "python",
   "pygments_lexer": "ipython3",
   "version": "3.11.9"
  }
 },
 "nbformat": 4,
 "nbformat_minor": 5
}
