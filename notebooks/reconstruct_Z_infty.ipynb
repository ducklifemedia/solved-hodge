{
 "cells": [
  {
   "cell_type": "markdown",
   "id": "d8241c08",
   "metadata": {},
   "source": [
    "# 🧬 Reconstruction of the Limit Cycle $Z_\\\\infty$\n",
    "\n",
    "This notebook reconstructs the algebraic cycle $Z_\\\\infty = \\\\lim_k Z_k$  \n",
    "from the symbolic iterates $\\\\omega_k = \\\\sum_i a_i^{(k)} \\\\alpha_i$.\n",
    "\n",
    "We use the coefficients from the last $k$ iterations to estimate the limit:\n",
    "\\\\[\n",
    "Z_\\\\infty = \\\\sum_i a_i^{(\\\\infty)} Z_i\n",
    "\\\\]\n",
    "\n",
    "These $a_i^{(\\\\infty)}$ are obtained by averaging the last few symbolic iterates."
   ]
  },
  {
   "cell_type": "code",
   "execution_count": 2,
   "id": "33494fc5",
   "metadata": {},
   "outputs": [
    {
     "data": {
      "text/html": [
       "<div>\n",
       "<style scoped>\n",
       "    .dataframe tbody tr th:only-of-type {\n",
       "        vertical-align: middle;\n",
       "    }\n",
       "\n",
       "    .dataframe tbody tr th {\n",
       "        vertical-align: top;\n",
       "    }\n",
       "\n",
       "    .dataframe thead th {\n",
       "        text-align: right;\n",
       "    }\n",
       "</style>\n",
       "<table border=\"1\" class=\"dataframe\">\n",
       "  <thead>\n",
       "    <tr style=\"text-align: right;\">\n",
       "      <th></th>\n",
       "      <th>i</th>\n",
       "      <th>a_i^∞ (estimated)</th>\n",
       "    </tr>\n",
       "  </thead>\n",
       "  <tbody>\n",
       "    <tr>\n",
       "      <th>0</th>\n",
       "      <td>1</td>\n",
       "      <td>1.000000</td>\n",
       "    </tr>\n",
       "    <tr>\n",
       "      <th>1</th>\n",
       "      <td>2</td>\n",
       "      <td>2.000000</td>\n",
       "    </tr>\n",
       "    <tr>\n",
       "      <th>2</th>\n",
       "      <td>3</td>\n",
       "      <td>0.072917</td>\n",
       "    </tr>\n",
       "  </tbody>\n",
       "</table>\n",
       "</div>"
      ],
      "text/plain": [
       "   i  a_i^∞ (estimated)\n",
       "0  1           1.000000\n",
       "1  2           2.000000\n",
       "2  3           0.072917"
      ]
     },
     "execution_count": 2,
     "metadata": {},
     "output_type": "execute_result"
    }
   ],
   "source": [
    "import numpy as np\n",
    "import pandas as pd\n",
    "\n",
    "# Simulated ω_k expressed in the basis {α₁, α₂, α₃}\n",
    "omega_coeffs = np.array([\n",
    "    [1.0, 2.0, 1.0],\n",
    "    [1.0, 2.0, 0.5],\n",
    "    [1.0, 2.0, 0.25],\n",
    "    [1.0, 2.0, 0.125],\n",
    "    [1.0, 2.0, 0.0625],\n",
    "    [1.0, 2.0, 0.03125],\n",
    "])\n",
    "\n",
    "# Estimate a_i^∞ using the average of the last few iterates\n",
    "Z_infty_coeffs = omega_coeffs[-3:, :].mean(axis=0)\n",
    "\n",
    "df = pd.DataFrame({\n",
    "    'i': [1, 2, 3],\n",
    "    'a_i^∞ (estimated)': Z_infty_coeffs\n",
    "})\n",
    "df\n"
   ]
  },
  {
   "cell_type": "markdown",
   "id": "85842478",
   "metadata": {},
   "source": [
    "## ✨ Output (LaTeX-ready)\n",
    "\n",
    "Use the estimated coefficients to define the final cycle:\n",
    "\n",
    "```latex\n",
    "\\\\[\n",
    "Z_\\\\infty \\\\approx 1.000 \\\\cdot Z_1 + 2.000 \\\\cdot Z_2 + 0.073 \\\\cdot Z_3\n",
    "\\\\]\n",
    "This expression is symbolic and explicitly reconstructs the algebraic cycle that realizes the limit of the symbolic iteration. "
   ]
  }
 ],
 "metadata": {
  "kernelspec": {
   "display_name": "Python 3",
   "language": "python",
   "name": "python3"
  },
  "language_info": {
   "codemirror_mode": {
    "name": "ipython",
    "version": 3
   },
   "file_extension": ".py",
   "mimetype": "text/x-python",
   "name": "python",
   "nbconvert_exporter": "python",
   "pygments_lexer": "ipython3",
   "version": "3.11.9"
  }
 },
 "nbformat": 4,
 "nbformat_minor": 5
}
