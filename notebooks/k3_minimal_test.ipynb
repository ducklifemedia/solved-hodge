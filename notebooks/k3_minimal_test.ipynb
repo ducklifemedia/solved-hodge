{
 "cells": [
  {
   "cell_type": "markdown",
   "id": "402a94ee",
   "metadata": {},
   "source": [
    "# 🌸 Minimal Symbolic Contraction Test: Quartic K3 Surface\n",
    "\n",
    "This notebook demonstrates the symbolic algebraization process on a rational Hodge class  \n",
    "defined on a quartic K3 surface.  \n",
    "The goal is to show, in the simplest possible setting, how the operator  \n",
    "\\\\( \\\\widehat{\\\\mathcal{S}} \\\\) contracts the transcendental part of a class  \n",
    "through symbolic iteration.\n",
    "\n",
    "This is a minimal, verifiable example intended for referees and researchers.\n",
    "\"\"\""
   ]
  },
  {
   "cell_type": "code",
   "execution_count": null,
   "id": "24d7a62b",
   "metadata": {},
   "outputs": [],
   "source": [
    "# Setup de clases\n",
    "# ## 1. Setup: symbolic classes and algebraic basis"
   ]
  },
  {
   "cell_type": "code",
   "execution_count": null,
   "id": "a720b6d1",
   "metadata": {},
   "outputs": [],
   "source": [
    "import numpy as np\n",
    "\n",
    "# Define algebraic basis: two symbolic divisor classes D1, D2 in H^{1,1}\n",
    "alpha_basis = [\n",
    "    np.array([1.0, 0.0, 0.0]),\n",
    "    np.array([0.0, 1.0, 0.0])\n",
    "]\n",
    "\n",
    "# Starting class: omega_0 = D1 + D2 + phi\n",
    "# phi = (0,0,1) is transcendental component (toy model)\n",
    "omega_0 = np.array([1.0, 1.0, 1.0])"
   ]
  },
  {
   "cell_type": "markdown",
   "id": "b03361e2",
   "metadata": {},
   "source": [
    "# Definición del operador simbólico (simplificado)\n",
    "## 2. Define symbolic contraction operator"
   ]
  },
  {
   "cell_type": "code",
   "execution_count": null,
   "id": "7b7bc6ba",
   "metadata": {},
   "outputs": [],
   "source": [
    "def symbolic_S(omega):\n",
    "    \\\"\\\"\\\"Simplified symbolic contraction: halves last component (the φ part).\\\"\\\"\\\"\n",
    "    return np.array([omega[0], omega[1], 0.5 * omega[2]])"
   ]
  },
  {
   "cell_type": "markdown",
   "id": "30016de2",
   "metadata": {},
   "source": [
    "# Iteración\n",
    "## 3. Iterate and compute φ norms"
   ]
  },
  {
   "cell_type": "code",
   "execution_count": null,
   "id": "32e19aee",
   "metadata": {},
   "outputs": [],
   "source": [
    "from symbolic_contraction_calculator import compute_phi_norms, compute_contraction_ratios\n",
    "\n",
    "# Build omega sequence\n",
    "omega_sequence = [omega_0]\n",
    "for _ in range(5):\n",
    "    omega_sequence.append(symbolic_S(omega_sequence[-1]))\n",
    "\n",
    "# Compute φ norms and ratios\n",
    "norms = compute_phi_norms(omega_sequence, alpha_basis)\n",
    "ratios = compute_contraction_ratios(norms)\n",
    "\n",
    "print(\"Norms of φ_k:\", norms)\n",
    "print(\"Contraction ratios:\", ratios)"
   ]
  },
  {
   "cell_type": "markdown",
   "id": "c9a5e727",
   "metadata": {},
   "source": [
    "## ✅ Conclusion\n",
    "\n",
    "This notebook confirms that symbolic contraction occurs  \n",
    "under the simplified operator \\\\( \\\\widehat{\\\\mathcal{S}} \\\\) on a toy quartic K3 model.\n",
    "\n",
    "The transcendental part decays exponentially, consistent with theoretical expectations.\n",
    "\n"
   ]
  },
  {
   "cell_type": "code",
   "execution_count": 3,
   "id": "f3f81886",
   "metadata": {},
   "outputs": [
    {
     "ename": "FileNotFoundError",
     "evalue": "[Errno 2] No such file or directory: 'notebooks/k3_minimal_test.ipynb'",
     "output_type": "error",
     "traceback": [
      "\u001b[31m---------------------------------------------------------------------------\u001b[39m",
      "\u001b[31mFileNotFoundError\u001b[39m                         Traceback (most recent call last)",
      "\u001b[36mCell\u001b[39m\u001b[36m \u001b[39m\u001b[32mIn[3]\u001b[39m\u001b[32m, line 2\u001b[39m\n\u001b[32m      1\u001b[39m \u001b[38;5;66;03m# Guardar notebook\u001b[39;00m\n\u001b[32m----> \u001b[39m\u001b[32m2\u001b[39m \u001b[38;5;28;01mwith\u001b[39;00m \u001b[38;5;28;43mopen\u001b[39;49m\u001b[43m(\u001b[49m\u001b[33;43m\"\u001b[39;49m\u001b[33;43mnotebooks/k3_minimal_test.ipynb\u001b[39;49m\u001b[33;43m\"\u001b[39;49m\u001b[43m,\u001b[49m\u001b[43m \u001b[49m\u001b[33;43m\"\u001b[39;49m\u001b[33;43mw\u001b[39;49m\u001b[33;43m\"\u001b[39;49m\u001b[43m,\u001b[49m\u001b[43m \u001b[49m\u001b[43mencoding\u001b[49m\u001b[43m=\u001b[49m\u001b[33;43m\"\u001b[39;49m\u001b[33;43mutf-8\u001b[39;49m\u001b[33;43m\"\u001b[39;49m\u001b[43m)\u001b[49m \u001b[38;5;28;01mas\u001b[39;00m f:\n\u001b[32m      3\u001b[39m     nbf.write(nb, f)\n",
      "\u001b[36mFile \u001b[39m\u001b[32m~\\AppData\\Roaming\\Python\\Python311\\site-packages\\IPython\\core\\interactiveshell.py:326\u001b[39m, in \u001b[36m_modified_open\u001b[39m\u001b[34m(file, *args, **kwargs)\u001b[39m\n\u001b[32m    319\u001b[39m \u001b[38;5;28;01mif\u001b[39;00m file \u001b[38;5;129;01min\u001b[39;00m {\u001b[32m0\u001b[39m, \u001b[32m1\u001b[39m, \u001b[32m2\u001b[39m}:\n\u001b[32m    320\u001b[39m     \u001b[38;5;28;01mraise\u001b[39;00m \u001b[38;5;167;01mValueError\u001b[39;00m(\n\u001b[32m    321\u001b[39m         \u001b[33mf\u001b[39m\u001b[33m\"\u001b[39m\u001b[33mIPython won\u001b[39m\u001b[33m'\u001b[39m\u001b[33mt let you open fd=\u001b[39m\u001b[38;5;132;01m{\u001b[39;00mfile\u001b[38;5;132;01m}\u001b[39;00m\u001b[33m by default \u001b[39m\u001b[33m\"\u001b[39m\n\u001b[32m    322\u001b[39m         \u001b[33m\"\u001b[39m\u001b[33mas it is likely to crash IPython. If you know what you are doing, \u001b[39m\u001b[33m\"\u001b[39m\n\u001b[32m    323\u001b[39m         \u001b[33m\"\u001b[39m\u001b[33myou can use builtins\u001b[39m\u001b[33m'\u001b[39m\u001b[33m open.\u001b[39m\u001b[33m\"\u001b[39m\n\u001b[32m    324\u001b[39m     )\n\u001b[32m--> \u001b[39m\u001b[32m326\u001b[39m \u001b[38;5;28;01mreturn\u001b[39;00m \u001b[43mio_open\u001b[49m\u001b[43m(\u001b[49m\u001b[43mfile\u001b[49m\u001b[43m,\u001b[49m\u001b[43m \u001b[49m\u001b[43m*\u001b[49m\u001b[43margs\u001b[49m\u001b[43m,\u001b[49m\u001b[43m \u001b[49m\u001b[43m*\u001b[49m\u001b[43m*\u001b[49m\u001b[43mkwargs\u001b[49m\u001b[43m)\u001b[49m\n",
      "\u001b[31mFileNotFoundError\u001b[39m: [Errno 2] No such file or directory: 'notebooks/k3_minimal_test.ipynb'"
     ]
    }
   ],
   "source": [
    "# Guardar notebook\n",
    "with open(\"notebooks/k3_minimal_test.ipynb\", \"w\", encoding=\"utf-8\") as f:\n",
    "    nbf.write(nb, f)"
   ]
  }
 ],
 "metadata": {
  "kernelspec": {
   "display_name": "Python 3",
   "language": "python",
   "name": "python3"
  },
  "language_info": {
   "codemirror_mode": {
    "name": "ipython",
    "version": 3
   },
   "file_extension": ".py",
   "mimetype": "text/x-python",
   "name": "python",
   "nbconvert_exporter": "python",
   "pygments_lexer": "ipython3",
   "version": "3.11.9"
  }
 },
 "nbformat": 4,
 "nbformat_minor": 5
}
